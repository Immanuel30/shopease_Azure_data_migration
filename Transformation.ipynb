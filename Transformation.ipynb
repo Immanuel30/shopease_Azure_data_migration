{
 "cells": [
  {
   "cell_type": "code",
   "execution_count": 0,
   "metadata": {
    "application/vnd.databricks.v1+cell": {
     "cellMetadata": {
      "byteLimit": 2048000,
      "rowLimit": 10000
     },
     "inputWidgets": {},
     "nuid": "5807c330-2b77-4a5f-86c7-74adab5aef35",
     "showTitle": false,
     "tableResultSettingsMap": {},
     "title": ""
    }
   },
   "outputs": [
    {
     "output_type": "execute_result",
     "data": {
      "text/plain": [
       "True"
      ]
     },
     "execution_count": 7,
     "metadata": {},
     "output_type": "execute_result"
    }
   ],
   "source": [
    "\"\"\"\n",
    "configs = {\"fs.azure.account.auth.type\": \"OAuth\",\n",
    "           \"fs.azure.account.oauth.provider.type\": \"org.apache.hadoop.fs.azurebfs.oauth2.ClientCredsTokenProvider\",\n",
    "           \"fs.azure.account.oauth2.client.id\": dbutils.secrets.get(scope=\"my-scope\", key=\"application-id\"),\n",
    "           \"fs.azure.account.oauth2.client.secret\": dbutils.secrets.get(scope=\"my-scope\", key=\"application-secret\"),\n",
    "           \"fs.azure.account.oauth2.client.endpoint\": \"https://login.microsoftonline.com/\" + dbutils.secrets.get(scope=\"my-scope\", key=\"application-tenant-id\") + \"/oauth2/token\"\n",
    "}\n",
    "\n",
    "#mouting storage container\n",
    "dbutils.fs.mount(\n",
    "  source = \"abfss://shopease-container@shopeasestorage123.dfs.core.windows.net/\",\n",
    "  mount_point = \"/mnt/shopease\",\n",
    "  extra_configs = configs)\n",
    "\n",
    "\"\"\""
   ]
  },
  {
   "cell_type": "code",
   "execution_count": 0,
   "metadata": {
    "application/vnd.databricks.v1+cell": {
     "cellMetadata": {
      "byteLimit": 2048000,
      "rowLimit": 10000
     },
     "inputWidgets": {},
     "nuid": "ca58ddd8-236c-4a54-af47-ee737922b528",
     "showTitle": false,
     "tableResultSettingsMap": {},
     "title": ""
    }
   },
   "outputs": [],
   "source": [
    "#load data\n",
    "\n",
    "customers = spark.read.csv(\"/mnt/shopease/silver/data/customers.csv\", header=True, inferSchema=True)\n",
    "sales = spark.read.csv(\"/mnt/shopease/silver/data/sales.csv\", header=True, inferSchema=True)"
   ]
  },
  {
   "cell_type": "code",
   "execution_count": 0,
   "metadata": {
    "application/vnd.databricks.v1+cell": {
     "cellMetadata": {
      "byteLimit": 2048000,
      "rowLimit": 10000
     },
     "inputWidgets": {},
     "nuid": "b5c10bf2-dc5f-456c-90d1-ebf242f9fed2",
     "showTitle": false,
     "tableResultSettingsMap": {},
     "title": ""
    }
   },
   "outputs": [
    {
     "output_type": "stream",
     "name": "stdout",
     "output_type": "stream",
     "text": [
      "+-----------+------------+----------+--------------------+----------------+-------------------+-----------+--------------------+------------+---------------+--------------+-------------------+\n|customer_id|  first_name| last_name|               email|           phone|            address|       city|               state|     country|       zip_code| date_of_birth|      customer_type|\n+-----------+------------+----------+--------------------+----------------+-------------------+-----------+--------------------+------------+---------------+--------------+-------------------+\n|          1|        Leah|     Olson| leah.olson@iclou...|4.47402064176E11|    10 Jones Estate|    Centers|          Birmingham|  Birmingham| United Kingdom|       954 7MN|2002-10-20 00:00:00|\n|          2|      Denise|     Green| denise.green@out...|4.47645225488E11|   52 Mosley Bridge|      Vista|          Birmingham|  Birmingham| United Kingdom|       708 9QR|1957-08-14 00:00:00|\n|          3| Christopher|   Johnson| christopher.john...|4.47970361125E11|   18 Kelley Street|       Spur|            Solihull|  Birmingham| United Kingdom|       517 7MN|1970-12-10 00:00:00|\n|          4|     Caitlin|      Cook| caitlin.cook@out...|4.47032480158E11|    40 Allen Bridge|       Hill|            Coventry|  Birmingham| United Kingdom|       404 2CD|1976-02-01 00:00:00|\n|          5|       Frank|   Sanders| frank.sanders@ho...|4.47874005256E11|     12 Riggs Light|        Run|           Sheffield|   Sheffield| United Kingdom|       882 6KL|1968-11-16 00:00:00|\n|          6|       Laura|    George| laura.george@icl...| 4.4703493894E11|   96 Oconnor Brook|        Via|      North Tyneside|   Newcastle| United Kingdom|       352 6KL|1998-11-28 00:00:00|\n|          7|     Cynthia|    Torres| cynthia.torres@i...|4.47377836053E11|     77 Dean Rapids|     Canyon|      South Tyneside|   Newcastle| United Kingdom|       127 8OP|1971-04-17 00:00:00|\n|          8|       Debra|     Smith| debra.smith@outl...|4.47814687241E11|    95 Burns Garden|    Station|             Enfield|      London| United Kingdom|       952 9QR|1967-09-29 00:00:00|\n|          9|    Jennifer|   Barrera| jennifer.barrera...|4.47580018156E11|     47 Casey Light|   Causeway|           Liverpool|   Liverpool| United Kingdom|       771 6KL|1969-08-04 00:00:00|\n|         10|      Jeremy|    Parker| jeremy.parker@ho...|4.47825125399E11|      99 Kelly Loaf|     Brooks|             Bristol|     Bristol| United Kingdom|       695 7MN|1968-09-28 00:00:00|\n|         11|        Troy|      Rich| troy.rich@gmail.com|4.47761261207E11|        1 Tonya Run|     Valley|              Newark|  Nottingham| United Kingdom|       324 7MN|1998-11-06 00:00:00|\n|         12|    Savannah|      Cook| savannah.cook@ic...|4.47379277293E11|  93 William Groves|    Prairie|           Gateshead|   Newcastle| United Kingdom|       711 4GH|1954-05-06 00:00:00|\n|         13|       Jason|    Nelson| jason.nelson@hot...|4.47900987543E11|  54 Johnson Summit| Trafficway|           Rotherham|   Sheffield| United Kingdom|       307 4GH|1962-06-14 00:00:00|\n|         14|        Anna|   Simpson| anna.simpson@hot...| 4.4774054754E11|    10 Rebecca Fort|    Valleys|               Wigan|  Manchester| United Kingdom|       565 2CD|1973-01-03 00:00:00|\n|         15|     Anthony|     Lewis| anthony.lewis@ou...| 4.4799162956E11| 39 Donna Mountains|      Parks|           St Helens|   Liverpool| United Kingdom|       775 6KL|1976-01-20 00:00:00|\n|         16|       Tammy|       Lee| tammy.lee@yahoo.com|4.47584399537E11|    37 Pamela Grove|  Stravenue|              Bolton|  Manchester| United Kingdom|       648 9QR|1968-03-19 00:00:00|\n|         17|     Brandon|    Dudley| brandon.dudley@i...|4.47929617838E11|     87 Jones Ferry|    Parkway|           Doncaster|   Sheffield| United Kingdom|       688 8OP|1996-12-03 00:00:00|\n|         18|        Ruth|    Harvey| ruth.harvey@outl...|4.47997864696E11|     7 Simmons Road|     Course|             Gosport| Southampton| United Kingdom|       595 7MN|1963-01-04 00:00:00|\n|         19|      Sharon|  Mckinney| sharon.mckinney@...|4.47255288305E11|   61 Vincent Glens|      Parks|          New Forest| Southampton| United Kingdom|       491 5IJ|1958-07-13 00:00:00|\n|         20|      Daniel|    Phelps| daniel.phelps@ho...|4.47290983599E11|   36 Smith Gateway|       Path| North East Somerset|     Bristol| United Kingdom|       387 9QR|1999-10-21 00:00:00|\n+-----------+------------+----------+--------------------+----------------+-------------------+-----------+--------------------+------------+---------------+--------------+-------------------+\nonly showing top 20 rows\n\n"
     ]
    }
   ],
   "source": [
    "#Show data\n",
    "\n",
    "customers.show()\n"
   ]
  },
  {
   "cell_type": "code",
   "execution_count": 0,
   "metadata": {
    "application/vnd.databricks.v1+cell": {
     "cellMetadata": {
      "byteLimit": 2048000,
      "rowLimit": 10000
     },
     "inputWidgets": {},
     "nuid": "10f10177-1136-448e-b0e2-61448b877869",
     "showTitle": false,
     "tableResultSettingsMap": {},
     "title": ""
    }
   },
   "outputs": [
    {
     "output_type": "stream",
     "name": "stdout",
     "output_type": "stream",
     "text": [
      "+-------+------------+-------------------+---------+-------------+----------------+---------------+\n|sale_id| customer_id|          sale_date| store_id| total_amount| discount_amount| payment_method|\n+-------+------------+-------------------+---------+-------------+----------------+---------------+\n|      1|      5631.0|2022-12-08 00:00:00|      5.0|       481.42|            14.8|           Cash|\n|      2|      2268.0|2024-03-13 00:00:00|      1.0|       258.69|           16.03|         PayPal|\n|      3|      3775.0|2024-09-19 00:00:00|      9.0|       343.14|           41.95|           Cash|\n|      4|      3536.0|2023-08-16 00:00:00|      2.0|       279.98|            7.99|         PayPal|\n|      5|       957.0|2023-08-06 00:00:00|     10.0|       303.46|           22.51|         PayPal|\n|      6|      6949.0|2024-04-09 00:00:00|      3.0|       140.74|            27.2|         PayPal|\n|      7|      9489.0|2024-03-02 00:00:00|      9.0|       307.17|           38.54|           Cash|\n|      8|      3794.0|2023-05-05 00:00:00|      1.0|        73.92|            30.3|    Credit Card|\n|      9|      1079.0|2023-04-01 00:00:00|      8.0|        43.45|           49.77|    Credit Card|\n|     10|      7428.0|2024-04-16 00:00:00|     10.0|       171.19|           40.47|           Cash|\n|     11|      5544.0|2022-10-20 00:00:00|     10.0|       264.92|           35.47|    Credit Card|\n|     12|      8858.0|2024-05-10 00:00:00|      5.0|       452.08|            2.93|           Cash|\n|     13|      9668.0|2023-01-08 00:00:00|      8.0|       430.55|           30.34|           Cash|\n|     14|      6286.0|2023-02-25 00:00:00|      2.0|        29.11|             1.2|         PayPal|\n|     15|       356.0|2023-03-05 00:00:00|      8.0|       251.69|           15.15|     Debit Card|\n|     16|       749.0|2024-02-05 00:00:00|      9.0|       103.89|            41.9|           Cash|\n|     17|      5166.0|2024-09-03 00:00:00|      1.0|       317.77|            4.39|     Debit Card|\n|     18|      3744.0|2024-01-04 00:00:00|      1.0|       206.93|           46.02|           Cash|\n|     19|      2893.0|2023-12-15 00:00:00|      1.0|        233.5|            4.56|           Cash|\n|     20|      3463.0|2023-06-19 00:00:00|      5.0|       241.43|           28.86|    Credit Card|\n+-------+------------+-------------------+---------+-------------+----------------+---------------+\nonly showing top 20 rows\n\n"
     ]
    }
   ],
   "source": [
    "sales.show()"
   ]
  },
  {
   "cell_type": "code",
   "execution_count": 0,
   "metadata": {
    "application/vnd.databricks.v1+cell": {
     "cellMetadata": {
      "byteLimit": 2048000,
      "rowLimit": 10000
     },
     "inputWidgets": {},
     "nuid": "3a7d98a7-1e60-4e12-85dc-b9d09fa26cd3",
     "showTitle": false,
     "tableResultSettingsMap": {},
     "title": ""
    }
   },
   "outputs": [],
   "source": [
    "from pyspark.sql import functions as f\n",
    "from pyspark.sql.functions import concat, concat_ws, lit, when, col, split\n"
   ]
  },
  {
   "cell_type": "code",
   "execution_count": 0,
   "metadata": {
    "application/vnd.databricks.v1+cell": {
     "cellMetadata": {
      "byteLimit": 2048000,
      "rowLimit": 10000
     },
     "inputWidgets": {},
     "nuid": "f73c7a79-4fb9-40c0-aa8d-df745eb6268d",
     "showTitle": false,
     "tableResultSettingsMap": {},
     "title": ""
    }
   },
   "outputs": [
    {
     "output_type": "execute_result",
     "data": {
      "text/plain": [
       "['customer_id',\n",
       " ' first_name',\n",
       " ' last_name',\n",
       " ' email',\n",
       " ' phone',\n",
       " ' address',\n",
       " ' city',\n",
       " ' state',\n",
       " ' country',\n",
       " ' zip_code',\n",
       " ' date_of_birth',\n",
       " ' customer_type']"
      ]
     },
     "execution_count": 37,
     "metadata": {},
     "output_type": "execute_result"
    }
   ],
   "source": [
    "customers.columns"
   ]
  },
  {
   "cell_type": "code",
   "execution_count": 0,
   "metadata": {
    "application/vnd.databricks.v1+cell": {
     "cellMetadata": {
      "byteLimit": 2048000,
      "rowLimit": 10000
     },
     "inputWidgets": {},
     "nuid": "c4807730-c251-461a-a9f6-c07e23db1d57",
     "showTitle": false,
     "tableResultSettingsMap": {},
     "title": ""
    }
   },
   "outputs": [],
   "source": [
    "#Remove trailing whitespace from the column names\n",
    "customers = customers.toDF(*[c.strip() for c in customers.columns]) "
   ]
  },
  {
   "cell_type": "code",
   "execution_count": 0,
   "metadata": {
    "application/vnd.databricks.v1+cell": {
     "cellMetadata": {
      "byteLimit": 2048000,
      "rowLimit": 10000
     },
     "inputWidgets": {},
     "nuid": "52cf2101-7af7-4d8a-aac8-18d4f8afd5fa",
     "showTitle": false,
     "tableResultSettingsMap": {},
     "title": ""
    }
   },
   "outputs": [],
   "source": [
    "customers_split = customers.withColumn(\"customer_date_of_birth\", split(customers[\"customer_type\"], \" \")[0]) \\\n",
    "                              .withColumn(\"customer_type\", split(customers[\"customer_type\"], \" \")[1])\n"
   ]
  },
  {
   "cell_type": "code",
   "execution_count": 0,
   "metadata": {
    "application/vnd.databricks.v1+cell": {
     "cellMetadata": {
      "byteLimit": 2048000,
      "rowLimit": 10000
     },
     "inputWidgets": {},
     "nuid": "7da7afb2-0bd6-4513-95a2-c00fa27eea8c",
     "showTitle": false,
     "tableResultSettingsMap": {},
     "title": ""
    }
   },
   "outputs": [
    {
     "output_type": "stream",
     "name": "stdout",
     "output_type": "stream",
     "text": [
      "+-----------+------------+---------+--------------------+----------------+-------------------+-----------+--------------------+------------+---------------+-------------+-------------+----------------------+\n|customer_id|  first_name|last_name|               email|           phone|            address|       city|               state|     country|       zip_code|date_of_birth|customer_type|customer_date_of_birth|\n+-----------+------------+---------+--------------------+----------------+-------------------+-----------+--------------------+------------+---------------+-------------+-------------+----------------------+\n|          1|        Leah|    Olson| leah.olson@iclou...|4.47402064176E11|    10 Jones Estate|    Centers|          Birmingham|  Birmingham| United Kingdom|      954 7MN|     00:00:00|            2002-10-20|\n|          2|      Denise|    Green| denise.green@out...|4.47645225488E11|   52 Mosley Bridge|      Vista|          Birmingham|  Birmingham| United Kingdom|      708 9QR|     00:00:00|            1957-08-14|\n|          3| Christopher|  Johnson| christopher.john...|4.47970361125E11|   18 Kelley Street|       Spur|            Solihull|  Birmingham| United Kingdom|      517 7MN|     00:00:00|            1970-12-10|\n|          4|     Caitlin|     Cook| caitlin.cook@out...|4.47032480158E11|    40 Allen Bridge|       Hill|            Coventry|  Birmingham| United Kingdom|      404 2CD|     00:00:00|            1976-02-01|\n|          5|       Frank|  Sanders| frank.sanders@ho...|4.47874005256E11|     12 Riggs Light|        Run|           Sheffield|   Sheffield| United Kingdom|      882 6KL|     00:00:00|            1968-11-16|\n|          6|       Laura|   George| laura.george@icl...| 4.4703493894E11|   96 Oconnor Brook|        Via|      North Tyneside|   Newcastle| United Kingdom|      352 6KL|     00:00:00|            1998-11-28|\n|          7|     Cynthia|   Torres| cynthia.torres@i...|4.47377836053E11|     77 Dean Rapids|     Canyon|      South Tyneside|   Newcastle| United Kingdom|      127 8OP|     00:00:00|            1971-04-17|\n|          8|       Debra|    Smith| debra.smith@outl...|4.47814687241E11|    95 Burns Garden|    Station|             Enfield|      London| United Kingdom|      952 9QR|     00:00:00|            1967-09-29|\n|          9|    Jennifer|  Barrera| jennifer.barrera...|4.47580018156E11|     47 Casey Light|   Causeway|           Liverpool|   Liverpool| United Kingdom|      771 6KL|     00:00:00|            1969-08-04|\n|         10|      Jeremy|   Parker| jeremy.parker@ho...|4.47825125399E11|      99 Kelly Loaf|     Brooks|             Bristol|     Bristol| United Kingdom|      695 7MN|     00:00:00|            1968-09-28|\n|         11|        Troy|     Rich| troy.rich@gmail.com|4.47761261207E11|        1 Tonya Run|     Valley|              Newark|  Nottingham| United Kingdom|      324 7MN|     00:00:00|            1998-11-06|\n|         12|    Savannah|     Cook| savannah.cook@ic...|4.47379277293E11|  93 William Groves|    Prairie|           Gateshead|   Newcastle| United Kingdom|      711 4GH|     00:00:00|            1954-05-06|\n|         13|       Jason|   Nelson| jason.nelson@hot...|4.47900987543E11|  54 Johnson Summit| Trafficway|           Rotherham|   Sheffield| United Kingdom|      307 4GH|     00:00:00|            1962-06-14|\n|         14|        Anna|  Simpson| anna.simpson@hot...| 4.4774054754E11|    10 Rebecca Fort|    Valleys|               Wigan|  Manchester| United Kingdom|      565 2CD|     00:00:00|            1973-01-03|\n|         15|     Anthony|    Lewis| anthony.lewis@ou...| 4.4799162956E11| 39 Donna Mountains|      Parks|           St Helens|   Liverpool| United Kingdom|      775 6KL|     00:00:00|            1976-01-20|\n|         16|       Tammy|      Lee| tammy.lee@yahoo.com|4.47584399537E11|    37 Pamela Grove|  Stravenue|              Bolton|  Manchester| United Kingdom|      648 9QR|     00:00:00|            1968-03-19|\n|         17|     Brandon|   Dudley| brandon.dudley@i...|4.47929617838E11|     87 Jones Ferry|    Parkway|           Doncaster|   Sheffield| United Kingdom|      688 8OP|     00:00:00|            1996-12-03|\n|         18|        Ruth|   Harvey| ruth.harvey@outl...|4.47997864696E11|     7 Simmons Road|     Course|             Gosport| Southampton| United Kingdom|      595 7MN|     00:00:00|            1963-01-04|\n|         19|      Sharon| Mckinney| sharon.mckinney@...|4.47255288305E11|   61 Vincent Glens|      Parks|          New Forest| Southampton| United Kingdom|      491 5IJ|     00:00:00|            1958-07-13|\n|         20|      Daniel|   Phelps| daniel.phelps@ho...|4.47290983599E11|   36 Smith Gateway|       Path| North East Somerset|     Bristol| United Kingdom|      387 9QR|     00:00:00|            1999-10-21|\n+-----------+------------+---------+--------------------+----------------+-------------------+-----------+--------------------+------------+---------------+-------------+-------------+----------------------+\nonly showing top 20 rows\n\n"
     ]
    }
   ],
   "source": [
    "customers_split.show()"
   ]
  },
  {
   "cell_type": "code",
   "execution_count": 0,
   "metadata": {
    "application/vnd.databricks.v1+cell": {
     "cellMetadata": {
      "byteLimit": 2048000,
      "rowLimit": 10000
     },
     "inputWidgets": {},
     "nuid": "e3c87470-b8ca-4645-8919-614d778509f0",
     "showTitle": false,
     "tableResultSettingsMap": {},
     "title": ""
    }
   },
   "outputs": [],
   "source": [
    "#Dropping duplicate and null columns\n",
    "customers_split = customers_split.drop(\"country\", \"customer_type\")"
   ]
  },
  {
   "cell_type": "code",
   "execution_count": 0,
   "metadata": {
    "application/vnd.databricks.v1+cell": {
     "cellMetadata": {
      "byteLimit": 2048000,
      "rowLimit": 10000
     },
     "inputWidgets": {},
     "nuid": "bdad6e70-ec1b-4f3f-bba6-fa2ab3d80cac",
     "showTitle": false,
     "tableResultSettingsMap": {},
     "title": ""
    }
   },
   "outputs": [],
   "source": [
    "#Renaming colunms\n",
    "customers_renamed = customers_split.withColumnRenamed(\"zip_code\", \"country\").withColumnRenamed(\"date_of_birth\", \"zip_code\").withColumnRenamed(\"customer_date_of_birth\", \"date_of_birth\")"
   ]
  },
  {
   "cell_type": "code",
   "execution_count": 0,
   "metadata": {
    "application/vnd.databricks.v1+cell": {
     "cellMetadata": {
      "byteLimit": 2048000,
      "rowLimit": 10000
     },
     "inputWidgets": {},
     "nuid": "baea1f9d-33e6-4586-a951-0d729da95e66",
     "showTitle": false,
     "tableResultSettingsMap": {},
     "title": ""
    }
   },
   "outputs": [],
   "source": [
    "sales = sales.toDF(*[c.strip() for c in sales.columns])"
   ]
  },
  {
   "cell_type": "code",
   "execution_count": 0,
   "metadata": {
    "application/vnd.databricks.v1+cell": {
     "cellMetadata": {},
     "inputWidgets": {},
     "nuid": "1ec84217-137b-40a2-95b4-1e409686cdbf",
     "showTitle": false,
     "tableResultSettingsMap": {},
     "title": ""
    }
   },
   "outputs": [],
   "source": [
    "#Write the customers_renamed as a csv to storage\n",
    "customers_point = \"/mnt/shopease/gold/customers\"\n",
    "sales_point =  \"/mnt/shopease/gold/sales\"\n",
    "customers_renamed.write.format(\"csv\").option(\"header\", \"true\").mode(\"overwrite\").save(customers_point)\n",
    "sales.write.format(\"csv\").option(\"header\", \"true\").mode(\"overwrite\").save(sales_point)"
   ]
  },
  {
   "cell_type": "code",
   "execution_count": 0,
   "metadata": {
    "application/vnd.databricks.v1+cell": {
     "cellMetadata": {},
     "inputWidgets": {},
     "nuid": "9ae112f0-47f4-42a4-a5b5-b0141ba319a0",
     "showTitle": false,
     "tableResultSettingsMap": {},
     "title": ""
    }
   },
   "outputs": [],
   "source": []
  }
 ],
 "metadata": {
  "application/vnd.databricks.v1+notebook": {
   "dashboards": [],
   "environmentMetadata": {
    "base_environment": "",
    "client": "1"
   },
   "language": "python",
   "notebookMetadata": {
    "pythonIndentUnit": 2
   },
   "notebookName": "Transformation",
   "widgets": {}
  },
  "language_info": {
   "name": "python"
  }
 },
 "nbformat": 4,
 "nbformat_minor": 0
}
